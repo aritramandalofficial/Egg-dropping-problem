{
  "nbformat": 4,
  "nbformat_minor": 0,
  "metadata": {
    "colab": {
      "provenance": []
    },
    "kernelspec": {
      "name": "python3",
      "display_name": "Python 3"
    },
    "language_info": {
      "name": "python"
    }
  },
  "cells": [
    {
      "cell_type": "markdown",
      "source": [
        "### **The Egg Drop** problem that deals with finding the minimum number of attempts (in the worst case scenario) needed to determine the highest floor from which an egg can be dropped without breaking."
      ],
      "metadata": {
        "id": "8VOUPofvGe2Z"
      }
    },
    {
      "cell_type": "markdown",
      "source": [
        "There are two cases. In one case we can reuse the egg if it is not cracked.\n",
        "In the other case we can not reuse the egg even if it is not cracked.\n"
      ],
      "metadata": {
        "id": "keOhHA8pGlp8"
      }
    },
    {
      "cell_type": "markdown",
      "source": [
        "**Case I: We can reuse the egg if it is not cracked.**"
      ],
      "metadata": {
        "id": "D4nda0YDHMPo"
      }
    },
    {
      "cell_type": "code",
      "execution_count": 11,
      "metadata": {
        "id": "i6rzEjHDGDv7"
      },
      "outputs": [],
      "source": [
        "# f is number of floors\n",
        "# e is number of eggs\n",
        "def attempt(e,f):\n",
        "  dp = [[0] * (f + 1) for _ in range(e + 1)]\n",
        "  # Base cases\n",
        "  for j in range(f+1):\n",
        "    dp[1][j] = j\n",
        "\n",
        "  for i in range(e+1):\n",
        "    dp[i][0] = 0\n",
        "    dp[i][1] = 1\n",
        "\n",
        "  for i in range(2, e + 1):\n",
        "        for j in range(2, f + 1):\n",
        "          dp[i][j] = float('inf')\n",
        "          for x in range(1,j+1):\n",
        "            worst_case = max(dp[i - 1][x - 1], dp[i][j - x])\n",
        "            dp[i][j] = min(dp[i][j], 1 + worst_case)\n",
        "\n",
        "  return dp[e][f]"
      ]
    },
    {
      "cell_type": "code",
      "source": [
        "print(attempt(2,10))"
      ],
      "metadata": {
        "colab": {
          "base_uri": "https://localhost:8080/"
        },
        "id": "W1kWolH3H2Ae",
        "outputId": "aacff355-27a2-4851-9e41-9081de4fda5d"
      },
      "execution_count": 12,
      "outputs": [
        {
          "output_type": "stream",
          "name": "stdout",
          "text": [
            "4\n"
          ]
        }
      ]
    },
    {
      "cell_type": "markdown",
      "source": [
        "**Case II: We can not reuse the eggs.**"
      ],
      "metadata": {
        "id": "XoKbhBlaQkFG"
      }
    },
    {
      "cell_type": "code",
      "source": [
        "# f is number of floors\n",
        "# e is number of eggs\n",
        "def attempt(e,f):\n",
        "  dp = [[0] * (f + 1) for _ in range(e + 1)]\n",
        "  # Base cases\n",
        "  dp[1][0] = 0\n",
        "  dp[1][1] = 1\n",
        "  for j in range(2,f+1):\n",
        "    dp[1][j] = float('inf')\n",
        "\n",
        "  for i in range(e+1):\n",
        "    dp[i][0] = 0\n",
        "    dp[i][1] = 1\n",
        "\n",
        "  for i in range(2, e + 1):\n",
        "        for j in range(2, f + 1):\n",
        "          dp[i][j] = float('inf')\n",
        "          for x in range(1,j+1):\n",
        "            worst_case = max(dp[i - 1][x - 1], dp[i-1][j - x])\n",
        "            dp[i][j] = min(dp[i][j], 1 + worst_case)\n",
        "\n",
        "  return dp[e][f]"
      ],
      "metadata": {
        "id": "GBmhtUnfQjlz"
      },
      "execution_count": 13,
      "outputs": []
    },
    {
      "cell_type": "code",
      "source": [
        "print(attempt(2,10))"
      ],
      "metadata": {
        "colab": {
          "base_uri": "https://localhost:8080/"
        },
        "id": "T96DCJdVSUJp",
        "outputId": "189b25ff-3dec-4538-c758-199d67765ca0"
      },
      "execution_count": 14,
      "outputs": [
        {
          "output_type": "stream",
          "name": "stdout",
          "text": [
            "inf\n"
          ]
        }
      ]
    }
  ]
}